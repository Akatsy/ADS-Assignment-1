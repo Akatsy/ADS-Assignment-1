{
  "nbformat": 4,
  "nbformat_minor": 0,
  "metadata": {
    "colab": {
      "provenance": [],
      "authorship_tag": "ABX9TyPdnsbYjJQXaUti0/3eYySF",
      "include_colab_link": true
    },
    "kernelspec": {
      "name": "python3",
      "display_name": "Python 3"
    },
    "language_info": {
      "name": "python"
    }
  },
  "cells": [
    {
      "cell_type": "markdown",
      "metadata": {
        "id": "view-in-github",
        "colab_type": "text"
      },
      "source": [
        "<a href=\"https://colab.research.google.com/github/Akatsy/ADS-Assignment-1/blob/main/introduction_to_pythoned0.ipynb\" target=\"_parent\"><img src=\"https://colab.research.google.com/assets/colab-badge.svg\" alt=\"Open In Colab\"/></a>"
      ]
    },
    {
      "cell_type": "code",
      "execution_count": null,
      "metadata": {
        "colab": {
          "base_uri": "https://localhost:8080/"
        },
        "id": "jrQ7PED4B_IT",
        "outputId": "9e647a1c-5893-494d-c9c9-2850953b04e9"
      },
      "outputs": [
        {
          "output_type": "stream",
          "name": "stdout",
          "text": [
            "Hello world\n"
          ]
        }
      ],
      "source": [
        "print(\"Hello world\")"
      ]
    },
    {
      "cell_type": "code",
      "source": [
        "### we use hashtag to put comments on a code of line"
      ],
      "metadata": {
        "id": "mNFmokuZKKI_"
      },
      "execution_count": null,
      "outputs": []
    },
    {
      "cell_type": "code",
      "source": [
        "## variable storage\n",
        "angie_k=15\n",
        "print(angie_k)"
      ],
      "metadata": {
        "colab": {
          "base_uri": "https://localhost:8080/"
        },
        "id": "yy-kXWd8Ccmp",
        "outputId": "6921b243-d352-43bb-c30a-41c24b582680"
      },
      "execution_count": null,
      "outputs": [
        {
          "output_type": "stream",
          "name": "stdout",
          "text": [
            "15\n"
          ]
        }
      ]
    },
    {
      "cell_type": "code",
      "source": [
        "## variable naming rules\n",
        "#  variable names cant begin with a number\n",
        "# when writing variables, use under scocres\n",
        "# no spaces or special characters when writing a variable name since it will give you an error\n",
        "angelah_k= \"girl\"\n",
        "print(angelah_k) "
      ],
      "metadata": {
        "colab": {
          "base_uri": "https://localhost:8080/"
        },
        "id": "911zi_xuG6OD",
        "outputId": "e32dc334-bff2-44f4-9e1a-b8433e749b0f"
      },
      "execution_count": null,
      "outputs": [
        {
          "output_type": "stream",
          "name": "stdout",
          "text": [
            "girl\n"
          ]
        }
      ]
    },
    {
      "cell_type": "code",
      "source": [
        "a result= 3.5  # there should be no spaces in between variables spaces \n",
        "print(a result)"
      ],
      "metadata": {
        "colab": {
          "base_uri": "https://localhost:8080/",
          "height": 130
        },
        "id": "6TJ_doGrH6SR",
        "outputId": "448a2011-7575-4847-920f-d89d28ba5e40"
      },
      "execution_count": null,
      "outputs": [
        {
          "output_type": "error",
          "ename": "SyntaxError",
          "evalue": "ignored",
          "traceback": [
            "\u001b[0;36m  File \u001b[0;32m\"<ipython-input-4-abc0a8a1e428>\"\u001b[0;36m, line \u001b[0;32m1\u001b[0m\n\u001b[0;31m    a result= 3.5  # there should be no spaces in between variables spaces\u001b[0m\n\u001b[0m           ^\u001b[0m\n\u001b[0;31mSyntaxError\u001b[0m\u001b[0;31m:\u001b[0m invalid syntax\n"
          ]
        }
      ]
    },
    {
      "cell_type": "code",
      "source": [
        "1 result= 20  # variables dont start with numbers\n",
        "\n",
        "print(1 result)"
      ],
      "metadata": {
        "colab": {
          "base_uri": "https://localhost:8080/",
          "height": 130
        },
        "id": "y5woV1F4IcqI",
        "outputId": "c0780f5e-6f18-4065-8a92-7bcf9bae0f52"
      },
      "execution_count": null,
      "outputs": [
        {
          "output_type": "error",
          "ename": "SyntaxError",
          "evalue": "ignored",
          "traceback": [
            "\u001b[0;36m  File \u001b[0;32m\"<ipython-input-8-3128ddaf341e>\"\u001b[0;36m, line \u001b[0;32m1\u001b[0m\n\u001b[0;31m    1 result= 20\u001b[0m\n\u001b[0m           ^\u001b[0m\n\u001b[0;31mSyntaxError\u001b[0m\u001b[0;31m:\u001b[0m invalid syntax\n"
          ]
        }
      ]
    },
    {
      "cell_type": "code",
      "source": [
        "# no special characters when naming variables , this will resuklt to erroe\n",
        "angie_$= 12\n",
        "print(angie_$)"
      ],
      "metadata": {
        "id": "k7fxffKEIp2g"
      },
      "execution_count": null,
      "outputs": []
    },
    {
      "cell_type": "code",
      "source": [
        "## OPERATIONS IN PYTHON\n",
        "# Syntax shortcuts\n",
        "##   1. +=\n",
        "x=6\n",
        "x+=2\n",
        "print(x)"
      ],
      "metadata": {
        "id": "Nx3bF_ftI5hB"
      },
      "execution_count": null,
      "outputs": []
    },
    {
      "cell_type": "code",
      "source": [
        "##  2. -=\n",
        "y=9\n",
        "y-=3\n",
        "print(y)"
      ],
      "metadata": {
        "id": "hsXPVgemJZJe"
      },
      "execution_count": null,
      "outputs": []
    },
    {
      "cell_type": "code",
      "source": [
        "## 3. *=\n",
        "m=7\n",
        "m*=5\n",
        "print(m)"
      ],
      "metadata": {
        "id": "hXRZcIzBJiy3"
      },
      "execution_count": null,
      "outputs": []
    },
    {
      "cell_type": "code",
      "source": [
        "## 4. /=\n",
        "v=9\n",
        "v/=3\n",
        "print(v)"
      ],
      "metadata": {
        "colab": {
          "base_uri": "https://localhost:8080/"
        },
        "id": "qN4KCpu2Jtgv",
        "outputId": "a2a42fc9-a24f-409f-e771-3ed061865a3f"
      },
      "execution_count": null,
      "outputs": [
        {
          "output_type": "stream",
          "name": "stdout",
          "text": [
            "3.0\n"
          ]
        }
      ]
    },
    {
      "cell_type": "code",
      "source": [
        "## 5.**=\n",
        "h=6\n",
        "h**=3\n",
        "print(h)"
      ],
      "metadata": {
        "colab": {
          "base_uri": "https://localhost:8080/"
        },
        "id": "URfSgAEiJ3Ku",
        "outputId": "2f18ff03-5f4e-40e2-da04-5bd6f42d0173"
      },
      "execution_count": null,
      "outputs": [
        {
          "output_type": "stream",
          "name": "stdout",
          "text": [
            "216\n"
          ]
        }
      ]
    },
    {
      "cell_type": "code",
      "source": [
        "## round() code  - used to round floats\n",
        "\n",
        "angie_h=15.36\n",
        "angie_h+=74.10\n",
        "angie_h=round(angie_h)\n",
        "print(angie_h)\n"
      ],
      "metadata": {
        "id": "QZ8XEf5TNXv7",
        "colab": {
          "base_uri": "https://localhost:8080/"
        },
        "outputId": "d6a27886-45bc-4688-9bb6-c54f1e816b3a"
      },
      "execution_count": null,
      "outputs": [
        {
          "output_type": "stream",
          "name": "stdout",
          "text": [
            "89\n"
          ]
        }
      ]
    },
    {
      "cell_type": "code",
      "source": [
        "## to convert into float\n",
        "angie_h=float(angie_h)\n",
        "print(angie_h)"
      ],
      "metadata": {
        "colab": {
          "base_uri": "https://localhost:8080/"
        },
        "id": "SYGAwBlJXG8a",
        "outputId": "979381d8-51e7-46d4-a87c-dbf11fb031e3"
      },
      "execution_count": null,
      "outputs": [
        {
          "output_type": "stream",
          "name": "stdout",
          "text": [
            "89.0\n"
          ]
        }
      ]
    },
    {
      "cell_type": "code",
      "source": [
        "## to conevert into int\n",
        "angie_h=int(angie_h)\n",
        "print(angie_h)"
      ],
      "metadata": {
        "colab": {
          "base_uri": "https://localhost:8080/"
        },
        "id": "XGOK83rwXfXm",
        "outputId": "61bae163-ca87-4950-fdbc-7cdbcc2389ef"
      },
      "execution_count": null,
      "outputs": [
        {
          "output_type": "stream",
          "name": "stdout",
          "text": [
            "89\n"
          ]
        }
      ]
    },
    {
      "cell_type": "code",
      "source": [],
      "metadata": {
        "id": "_vwrj5VLX1Bv"
      },
      "execution_count": null,
      "outputs": []
    },
    {
      "cell_type": "markdown",
      "source": [
        "Data types\n",
        "1. strings\n",
        "2.Intergers\n",
        "3. Floats\n",
        "4. boo"
      ],
      "metadata": {
        "id": "_I33kHDVX3AY"
      }
    },
    {
      "cell_type": "code",
      "source": [
        "## We call the process of linking two or more strings together concatenation.\n",
        "## String concatenation. --- we use + operator to concatenate\n",
        "print(\"a\"+\"1\")\n",
        "print(\"a\"+\" \"+ \"b\")"
      ],
      "metadata": {
        "colab": {
          "base_uri": "https://localhost:8080/"
        },
        "id": "BVnXGG49mJBQ",
        "outputId": "0882f830-71df-4000-926b-8c9f02b5146b"
      },
      "execution_count": null,
      "outputs": [
        {
          "output_type": "stream",
          "name": "stdout",
          "text": [
            "a1\n",
            "a b\n"
          ]
        }
      ]
    },
    {
      "cell_type": "code",
      "source": [
        "print(\"a\"*4)\n",
        "print(\"b\"*9)"
      ],
      "metadata": {
        "colab": {
          "base_uri": "https://localhost:8080/"
        },
        "id": "j4XDYYHpmW4L",
        "outputId": "b0c76555-8544-42e9-f42c-50efba0c85cd"
      },
      "execution_count": null,
      "outputs": [
        {
          "output_type": "stream",
          "name": "stdout",
          "text": [
            "aaaa\n",
            "bbbbbbbbb\n"
          ]
        }
      ]
    },
    {
      "cell_type": "code",
      "source": [
        "## conversion of string to int or float\n",
        "b=\"4.5\"\n",
        "print(int(b) +5)"
      ],
      "metadata": {
        "colab": {
          "base_uri": "https://localhost:8080/",
          "height": 200
        },
        "id": "kFsYWIYMoI5W",
        "outputId": "5fb0919d-f144-486e-c4ae-cc9d90010d68"
      },
      "execution_count": null,
      "outputs": [
        {
          "output_type": "error",
          "ename": "ValueError",
          "evalue": "ignored",
          "traceback": [
            "\u001b[0;31m---------------------------------------------------------------------------\u001b[0m",
            "\u001b[0;31mValueError\u001b[0m                                Traceback (most recent call last)",
            "\u001b[0;32m<ipython-input-1-175f71ddeb2e>\u001b[0m in \u001b[0;36m<module>\u001b[0;34m\u001b[0m\n\u001b[1;32m      1\u001b[0m \u001b[0;31m## conversion of string to int or float\u001b[0m\u001b[0;34m\u001b[0m\u001b[0;34m\u001b[0m\u001b[0;34m\u001b[0m\u001b[0m\n\u001b[1;32m      2\u001b[0m \u001b[0mb\u001b[0m\u001b[0;34m=\u001b[0m\u001b[0;34m\"4.5\"\u001b[0m\u001b[0;34m\u001b[0m\u001b[0;34m\u001b[0m\u001b[0m\n\u001b[0;32m----> 3\u001b[0;31m \u001b[0mprint\u001b[0m\u001b[0;34m(\u001b[0m\u001b[0mint\u001b[0m\u001b[0;34m(\u001b[0m\u001b[0mb\u001b[0m\u001b[0;34m)\u001b[0m \u001b[0;34m+\u001b[0m\u001b[0;36m5\u001b[0m\u001b[0;34m)\u001b[0m\u001b[0;34m\u001b[0m\u001b[0;34m\u001b[0m\u001b[0m\n\u001b[0m",
            "\u001b[0;31mValueError\u001b[0m: invalid literal for int() with base 10: '4.5'"
          ]
        }
      ]
    },
    {
      "cell_type": "code",
      "source": [
        "## lists"
      ],
      "metadata": {
        "id": "bd3btyMicArC"
      },
      "execution_count": null,
      "outputs": []
    },
    {
      "cell_type": "markdown",
      "source": [
        "## Lists\n",
        "# rules\n",
        "To create a list of data points, we need to do the following:\n",
        "\n",
        "1.Separate the data points with a comma\n",
        "2.Surround the sequence of data points with brackets"
      ],
      "metadata": {
        "id": "MgazDTZVcG4P"
      }
    },
    {
      "cell_type": "code",
      "source": [
        "row_2 = ['Instagram', 0.0, 'USD', 2161558, 4.5]"
      ],
      "metadata": {
        "id": "BumLs8f6cXon"
      },
      "execution_count": null,
      "outputs": []
    },
    {
      "cell_type": "code",
      "source": [
        "## len()-- To find the length of a list, we can use the\n",
        "row_2 = ['Instagram', 0.0, 'USD', 2161558, 4.5]\n",
        "print(len(row_2))"
      ],
      "metadata": {
        "colab": {
          "base_uri": "https://localhost:8080/"
        },
        "id": "LXg5L4g4dPVN",
        "outputId": "4433d656-cc90-4039-eea2-01af8ea991cb"
      },
      "execution_count": null,
      "outputs": [
        {
          "output_type": "stream",
          "name": "stdout",
          "text": [
            "5\n"
          ]
        }
      ]
    },
    {
      "cell_type": "markdown",
      "source": [
        "**List indexing**\n",
        "Each element (data point) in a list has a specific number associated with it — this is an index number. The indexing always starts at 0, so the first element will have the index number 0, the second element will have the index number 1, and so on.\n",
        " e.g in row_2, instagram is 0, 0.0 is 1\n",
        "\n",
        "\n"
      ],
      "metadata": {
        "id": "V694V5PJeMJM"
      }
    },
    {
      "cell_type": "code",
      "source": [
        "##List slicing\n",
        "#rules\n",
        "To retrieve any list slice we want, we do the following:\n",
        "\n",
        "We identify the first and the last element of the slice.\n",
        "We identify the index numbers of the first and the last element of the slice.\n",
        "We retrieve the list slice we want by using the syntax a_list[m:n], where the following are true:\n",
        "m represents the index number of the first element of the slice\n",
        "n represents the index number of the last element of the slice plus one (if the last element has the index number 2, then n will be 3, if the last element has the index number 4, then n will be 5, and so on)."
      ],
      "metadata": {
        "id": "SKWknFonelUr"
      },
      "execution_count": null,
      "outputs": []
    },
    {
      "cell_type": "code",
      "source": [],
      "metadata": {
        "id": "7kaRz3ubuNUT"
      },
      "execution_count": null,
      "outputs": []
    },
    {
      "cell_type": "markdown",
      "source": [
        "python for loops -\n",
        "In Python, the for loop is used to run a block of code for a certain number of times. It is used to iterate over any sequences such as list, tuple, string\n"
      ],
      "metadata": {
        "id": "hzF2BMCWyKKF"
      }
    },
    {
      "cell_type": "code",
      "source": [
        "# for example\n",
        "app_names = ['Facebook', 'Instagram', 'Clash of Clans', 'Fruit Ninja Classic', 'Minecraft: Pocket Edition']\n",
        "for names in app_names:\n",
        "    print(names)"
      ],
      "metadata": {
        "colab": {
          "base_uri": "https://localhost:8080/"
        },
        "id": "maFJUlzoyhuI",
        "outputId": "daae622f-be3b-4845-a0f8-009935d0deb7"
      },
      "execution_count": null,
      "outputs": [
        {
          "output_type": "stream",
          "name": "stdout",
          "text": [
            "Facebook\n",
            "Instagram\n",
            "Clash of Clans\n",
            "Fruit Ninja Classic\n",
            "Minecraft: Pocket Edition\n"
          ]
        }
      ]
    },
    {
      "cell_type": "code",
      "source": [
        "row_1 = ['Facebook', 0.0, 'USD', 2974676, 3.5]\n",
        "row_2 = ['Instagram', 0.0, 'USD', 2161558, 4.5]\n",
        "row_3 = ['Clash of Clans', 0.0, 'USD', 2130805, 4.5]\n",
        "row_4 = ['Fruit Ninja Classic', 1.99, 'USD', 698516, 4.5]\n",
        "row_5 = ['Minecraft: Pocket Edition', 6.99, 'USD', 522012, 4.5]\n",
        "\n",
        "app_data_set = [row_1, row_2, row_3, row_4, row_5]\n",
        "for rating in app_data_set:\n",
        "    rating_count=rating[-2]\n",
        "    print(rating_count)"
      ],
      "metadata": {
        "colab": {
          "base_uri": "https://localhost:8080/"
        },
        "id": "FojdnuoD0FEh",
        "outputId": "aeacf058-e4b3-48f2-91c9-40d01e2fe89a"
      },
      "execution_count": null,
      "outputs": [
        {
          "output_type": "stream",
          "name": "stdout",
          "text": [
            "2974676\n",
            "2161558\n",
            "2130805\n",
            "698516\n",
            "522012\n"
          ]
        }
      ]
    },
    {
      "cell_type": "code",
      "source": [
        "row_1 = ['Facebook', 0.0, 'USD', 2974676, 3.5]\n",
        "row_2 = ['Instagram', 0.0, 'USD', 2161558, 4.5]\n",
        "row_3 = ['Clash of Clans', 0.0, 'USD', 2130805, 4.5]\n",
        "row_4 = ['Fruit Ninja Classic', 1.99, 'USD', 698516, 4.5]\n",
        "row_5 = ['Minecraft: Pocket Edition', 6.99, 'USD', 522012, 4.5]\n",
        "\n",
        "app_data_set = [row_1, row_2, row_3, row_4, row_5]\n",
        "rating_sum=0\n",
        "for rating in app_data_set:  ## loops/iterate the app_data set\n",
        "    rating_count=rating[-1]  ## to extract the ratings\n",
        "    rating_sum=rating_sum+rating_count  ## it sums up the whole rating to a total of 21.5   ,(3.5+4.5+4.5+4.5+4.5)\n",
        "    print(rating_sum) ## it displays the output"
      ],
      "metadata": {
        "colab": {
          "base_uri": "https://localhost:8080/"
        },
        "id": "N9XbbFA_0Rtz",
        "outputId": "b55ddb71-81e0-4d67-b247-3200e0815992"
      },
      "execution_count": null,
      "outputs": [
        {
          "output_type": "stream",
          "name": "stdout",
          "text": [
            "3.5\n",
            "8.0\n",
            "12.5\n",
            "17.0\n",
            "21.5\n"
          ]
        }
      ]
    },
    {
      "cell_type": "markdown",
      "source": [
        "## Python If, Else, Elif **Statements** **bold text**"
      ],
      "metadata": {
        "id": "IWxFP6AE0S7J"
      }
    },
    {
      "cell_type": "code",
      "source": [
        "## Python evaluates any combination of Booleans to a single Boolean value:\n",
        "\n",
        "## print(True and True)\n",
        "## print(True and False)\n",
        "## print(False and True)\n",
        "## print(False and False)\n"
      ],
      "metadata": {
        "id": "byYg2axh-g4z"
      },
      "execution_count": 1,
      "outputs": []
    },
    {
      "cell_type": "markdown",
      "source": [
        "output\n",
        "True\n",
        "False\n",
        "False\n",
        "False\n",
        "\n",
        "\n",
        "N/B  As a rule, when we combine Booleans using and the resulting Boolean is True only if all the Booleans are True. If any of the Booleans are False, then the resulting Boolean will be False:"
      ],
      "metadata": {
        "id": "1cj0TjYY9nKo"
      }
    },
    {
      "cell_type": "code",
      "source": [],
      "metadata": {
        "id": "n7e49ZzM99PA"
      },
      "execution_count": null,
      "outputs": []
    },
    {
      "cell_type": "markdown",
      "source": [],
      "metadata": {
        "id": "uovlBSSVIoCq"
      }
    }
  ]
}