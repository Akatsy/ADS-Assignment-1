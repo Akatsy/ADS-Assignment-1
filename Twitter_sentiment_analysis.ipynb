{
  "nbformat": 4,
  "nbformat_minor": 0,
  "metadata": {
    "colab": {
      "name": "Twitter sentiment analysis.ipynb",
      "provenance": [],
      "authorship_tag": "ABX9TyNk0aKu/tESXOe7EeEyjtCK",
      "include_colab_link": true
    },
    "kernelspec": {
      "name": "python3",
      "display_name": "Python 3"
    },
    "language_info": {
      "name": "python"
    }
  },
  "cells": [
    {
      "cell_type": "markdown",
      "metadata": {
        "id": "view-in-github",
        "colab_type": "text"
      },
      "source": [
        "<a href=\"https://colab.research.google.com/github/Akatsy/ADS-Assignment-1/blob/main/Twitter_sentiment_analysis.ipynb\" target=\"_parent\"><img src=\"https://colab.research.google.com/assets/colab-badge.svg\" alt=\"Open In Colab\"/></a>"
      ]
    },
    {
      "cell_type": "code",
      "execution_count": null,
      "metadata": {
        "id": "zXK0bPHWDzEV"
      },
      "outputs": [],
      "source": [
        "pip install tweepy"
      ]
    },
    {
      "cell_type": "code",
      "source": [
        "pip install textblob"
      ],
      "metadata": {
        "id": "lYvPLzGgD_am"
      },
      "execution_count": null,
      "outputs": []
    },
    {
      "cell_type": "code",
      "source": [
        "pip install -U textblob"
      ],
      "metadata": {
        "id": "7nOZORmzEF7m"
      },
      "execution_count": null,
      "outputs": []
    },
    {
      "cell_type": "markdown",
      "source": [
        ""
      ],
      "metadata": {
        "id": "hiMqQEMmFf-A"
      }
    },
    {
      "cell_type": "code",
      "source": [
        "import re\n",
        "import tweepy\n",
        "from tweepy import OAuthHandler\n",
        "from textblob import TextBlob\n",
        "\n",
        "class TwitterClient(object):\n",
        "\t'''\n",
        "\tGeneric Twitter Class for sentiment analysis.\n",
        "\t'''\n",
        "\tdef __init__(self):\n",
        "\t\t'''\n",
        "\t\tClass constructor or initialization method.\n",
        "\t\t'''\n",
        "\t\t# keys and tokens from the Twitter Dev Console\n",
        "\t\tconsumer_key = '0EnO4ExWXxwtUrmXd6fDORfAo'\n",
        "\t\tconsumer_secret = '2mXc2NiQCG1qAE8hxK5j07h4zuWTsSPolnwB3rWAFbSbsA0WLr'\n",
        "\t\taccess_token = '1124387118091001860-nN2S6oYhvaXzY5Svgfo4MVbGuvxV5V'\n",
        "\t\taccess_token_secret = 'YRZNeKdW9VabHxBY8s9sf2f42Ifd91mzpLkYnBs9dsPEN'\n",
        "\n",
        "\t\t# attempt authentication\n",
        "\t\ttry:\n",
        "\t\t\t# create OAuthHandler object\n",
        "\t\t\tself.auth = OAuthHandler(consumer_key, consumer_secret)\n",
        "\t\t\t# set access token and secret\n",
        "\t\t\tself.auth.set_access_token(access_token, access_token_secret)\n",
        "\t\t\t# create tweepy API object to fetch tweets\n",
        "\t\t\tself.api = tweepy.API(self.auth)\n",
        "\t\texcept:\n",
        "\t\t\tprint(\"Error: Authentication Failed\")\n",
        "\n",
        "\tdef clean_tweet(self, tweet):\n",
        "\t\t'''\n",
        "\t\tUtility function to clean tweet text by removing links, special characters\n",
        "\t\tusing simple regex statements.\n",
        "\t\t'''\n",
        "\t\treturn ' '.join(re.sub(\"(@[A-Za-z0-9]+)|([^0-9A-Za-z \\t])|(\\w+:\\/\\/\\S+)\", \" \", tweet).split())\n",
        "\n",
        "\n",
        "\tdef get_tweet_sentiment(self, tweet):\n",
        "\t\t'''\n",
        "\t\tUtility function to classify sentiment of passed tweet\n",
        "\t\tusing textblob's sentiment method\n",
        "\t\t'''\n",
        "\t\t# create TextBlob object of passed tweet text\n",
        "\t\tanalysis = TextBlob(self.clean_tweet(tweet))\n",
        "\t\t# set sentiment\n",
        "\t\tif analysis.sentiment.polarity > 0:\n",
        "\t\t\treturn 'positive'\n",
        "\t\telif analysis.sentiment.polarity == 0:\n",
        "\t\t\treturn 'neutral'\n",
        "\t\telse:\n",
        "\t\t\treturn 'negative'\n",
        "\n",
        "\tdef get_tweets(self, query, count = 10):\n",
        "\t\t'''\n",
        "\t\tMain function to fetch tweets and parse them.\n",
        "\t\t'''\n",
        "\t\t# empty list to store parsed tweets\n",
        "\t\ttweets = []\n",
        "\n",
        "\t\ttry:\n",
        "\t\t\t# call twitter api to fetch tweets\n",
        "\t\t\tfetched_tweets = self.api.search(q = query, count = count)\n",
        "\n",
        "\t\t\t# parsing tweets one by one\n",
        "\t\t\tfor tweet in fetched_tweets:\n",
        "\t\t\t\t# empty dictionary to store required params of a tweet\n",
        "\t\t\t\tparsed_tweet = {}\n",
        "\n",
        "\t\t\t\t# saving text of tweet\n",
        "\t\t\t\tparsed_tweet['text'] = tweet.text\n",
        "\t\t\t\t# saving sentiment of tweet\n",
        "\t\t\t\tparsed_tweet['sentiment'] = self.get_tweet_sentiment(tweet.text)\n",
        "\n",
        "\t\t\t\t# appending parsed tweet to tweets list\n",
        "\t\t\t\tif tweet.retweet_count > 0:\n",
        "\t\t\t\t\t# if tweet has retweets, ensure that it is appended only once\n",
        "\t\t\t\t\tif parsed_tweet not in tweets:\n",
        "\t\t\t\t\t\ttweets.append(parsed_tweet)\n",
        "\t\t\t\telse:\n",
        "\t\t\t\t\ttweets.append(parsed_tweet)\n",
        "\n",
        "\t\t\t# return parsed tweets\n",
        "\t\t\treturn tweets\n",
        "\n",
        "\t\texcept tweepy.TweepError as e:\n",
        "\t\t\t# print error (if any)\n",
        "\t\t\tprint(\"Error : \" + str(e))\n",
        "\n",
        "def main():\n",
        "\t# creating object of TwitterClient Class\n",
        "\tapi = TwitterClient()\n",
        "\t# calling function to get tweets\n",
        "\ttweets = api.get_tweets(query = 'Joho', count = 20000000)\n",
        "\n",
        "\t# picking positive tweets from tweets\n",
        "\tptweets = [tweet for tweet in tweets if tweet['sentiment'] == 'positive']\n",
        "\t# percentage of positive tweets\n",
        "\tprint(\"Positive tweets percentage: {} %\".format(100*len(ptweets)/len(tweets)))\n",
        "\t# picking negative tweets from tweets\n",
        "\tntweets = [tweet for tweet in tweets if tweet['sentiment'] == 'negative']\n",
        "\t# percentage of negative tweets\n",
        "\tprint(\"Negative tweets percentage: {} %\".format(100*len(ntweets)/len(tweets)))\n",
        "\t# percentage of neutral tweets\n",
        "\tprint(\"Neutral tweets percentage: {} % \\\n",
        "\t\t\".format(100*(len(tweets) -(len( ntweets )+len( ptweets)))/len(tweets)))\n",
        "\n",
        "\t# printing first 5 positive tweets\n",
        "\tprint(\"\\n\\nPositive tweets:\")\n",
        "\tfor tweet in ptweets[:10]:\n",
        "\t\tprint(tweet['text'])\n",
        "\n",
        "\t# printing first 5 negative tweets\n",
        "\tprint(\"\\n\\nNegative tweets:\")\n",
        "\tfor tweet in ntweets[:10]:\n",
        "\t\tprint(tweet['text'])\n",
        "\n",
        "if __name__ == \"__main__\":\n",
        "\t# calling main function\n",
        "\tmain()\n"
      ],
      "metadata": {
        "colab": {
          "base_uri": "https://localhost:8080/"
        },
        "id": "m6jzorqGFgi_",
        "outputId": "947a1bf3-0b29-40f9-b458-9d9f7caba42b"
      },
      "execution_count": 12,
      "outputs": [
        {
          "output_type": "stream",
          "name": "stdout",
          "text": [
            "Positive tweets percentage: 35.13513513513514 %\n",
            "Negative tweets percentage: 10.81081081081081 %\n",
            "Neutral tweets percentage: 54.054054054054056 % \t\t\n",
            "\n",
            "\n",
            "Positive tweets:\n",
            "RT @AokoOtieno_: In the Biblical legend, humanity suffers b'coz of a woman\n",
            "\n",
            "Opoda had very good chances with Kalonzo as his DP, until gende…\n",
            "RT @KE_VOOH: Top gun Kenya kwanza e in kcse Nairobi diaries shawry Ramaphosa Anthony Aspen medical south Africa Casemiro Daniel musyoka #Ka…\n",
            "RT @MoneyhoneyKe: Francis Atwoli wants to feed the public with propaganda that he is a man under siege. William Ruto has bigger things to w…\n",
            "RT @__spence_r: jiji is the best🔥🔥\n",
            "\n",
            "joho chebukati ramaphosa kenya kwanza uhuru and ruto aoko magoha nairobi diaries malema mombasa musyoka…\n",
            "Ohuru messed up,u don't replace Wanyonyi for Igathe unless u wanted to give UDA a clear win. \n",
            "U dont replace Otiend… https://t.co/qghDLYfUHa\n",
            "RT @miondokoo: Follow @virginHoffice for more office and home furnitures.\n",
            "Delivery is done countrywide\n",
            "Call/Whatsapp 0703925459 to make you…\n",
            "RT @Bluebor416: President -Elect William Ruto had warned and told them to prepare ama mambo itaharibika tena and they thought it was a 🤣😆\n",
            "M…\n",
            "RT @AokoOtieno_: Ruto should deploy every machinery possible to ensure Sarai wins in Mombasa. It's more critical than Kakamega\n",
            "\n",
            "The brain b…\n",
            "BIOGAS, 💓☎️ 0729045900\n",
            " we install Biogas in All counties of Kenya   at a pocket-Friendly price. Call📞📞 0729045900… https://t.co/R22gGibs4R\n",
            "RT @miondokoo: Grab these amazing office and home furnitures from @virginHoffice at pocket friendly prices\n",
            "\n",
            "Call/Whatsapp 0703925459 \n",
            "Deliv…\n",
            "\n",
            "\n",
            "Negative tweets:\n",
            "RT @KBonimtetezi: Suspension of Kakamega &amp; Mombasa gubernatorial elections has serious constitutional implications\n",
            "~Oparanya &amp; Joho are no…\n",
            "@citizentvkenya Hassan Joho Side chicken\n",
            "RT @MoneyhoneyKe: Kalonzo Musyoka should stop being used as a PAWN in the chess game of Azimio. Eventually Kenya Kwanza will have its way i…\n",
            "@JulianaCherera Shit rudi kwa bedsheet Joho is waiting you\n"
          ]
        }
      ]
    }
  ]
}