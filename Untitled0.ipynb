{
  "nbformat": 4,
  "nbformat_minor": 0,
  "metadata": {
    "colab": {
      "provenance": [],
      "authorship_tag": "ABX9TyOuCKFogu6FoOIY7bVOeJEJ",
      "include_colab_link": true
    },
    "kernelspec": {
      "name": "python3",
      "display_name": "Python 3"
    },
    "language_info": {
      "name": "python"
    }
  },
  "cells": [
    {
      "cell_type": "markdown",
      "metadata": {
        "id": "view-in-github",
        "colab_type": "text"
      },
      "source": [
        "<a href=\"https://colab.research.google.com/github/Akatsy/ADS-Assignment-1/blob/main/Untitled0.ipynb\" target=\"_parent\"><img src=\"https://colab.research.google.com/assets/colab-badge.svg\" alt=\"Open In Colab\"/></a>"
      ]
    },
    {
      "cell_type": "code",
      "source": [
        "## srtring foramtting"
      ],
      "metadata": {
        "id": "NdfN65upNcSm"
      },
      "execution_count": null,
      "outputs": []
    },
    {
      "cell_type": "markdown",
      "source": [],
      "metadata": {
        "id": "kUcUZH7_NhL-"
      }
    },
    {
      "cell_type": "code",
      "execution_count": null,
      "metadata": {
        "colab": {
          "base_uri": "https://localhost:8080/"
        },
        "id": "_-G4-koGAZyu",
        "outputId": "6836d01a-cc83-489e-bf55-88a897369bcd"
      },
      "outputs": [
        {
          "output_type": "stream",
          "name": "stdout",
          "text": [
            "hello my name is Angie am 20 yrs\n"
          ]
        }
      ],
      "source": [
        "print(\"hello my name is Angie am 20 yrs\")"
      ]
    },
    {
      "cell_type": "code",
      "source": [
        "name= \"angie\"\n",
        "age= 24\n",
        "print (name,  '\\n' ,age) ##  \\n is used to space"
      ],
      "metadata": {
        "colab": {
          "base_uri": "https://localhost:8080/"
        },
        "id": "VltWqfMnIvIp",
        "outputId": "242840df-3da2-4a28-f88f-1c96ccc9cdb1"
      },
      "execution_count": null,
      "outputs": [
        {
          "output_type": "stream",
          "name": "stdout",
          "text": [
            "angie \n",
            " 24\n"
          ]
        }
      ]
    },
    {
      "cell_type": "code",
      "source": [
        "## f. string helps us add anything in the string\n",
        "f\"hello. my name is  {name}. I am {age} years.\""
      ],
      "metadata": {
        "colab": {
          "base_uri": "https://localhost:8080/",
          "height": 35
        },
        "id": "aqkknM77Ki9e",
        "outputId": "eb62b710-55be-413b-bbb1-330ae7203110"
      },
      "execution_count": null,
      "outputs": [
        {
          "output_type": "execute_result",
          "data": {
            "text/plain": [
              "'hello. my name is  angie. I am 24 years.'"
            ],
            "application/vnd.google.colaboratory.intrinsic+json": {
              "type": "string"
            }
          },
          "metadata": {},
          "execution_count": 16
        }
      ]
    },
    {
      "cell_type": "code",
      "source": [
        "\"every\" + \"one\""
      ],
      "metadata": {
        "colab": {
          "base_uri": "https://localhost:8080/",
          "height": 35
        },
        "id": "3S8XpzqfLteY",
        "outputId": "ea1fc2a3-06fb-4132-a7f7-39a0a0d602f8"
      },
      "execution_count": 1,
      "outputs": [
        {
          "output_type": "execute_result",
          "data": {
            "text/plain": [
              "'everyone'"
            ],
            "application/vnd.google.colaboratory.intrinsic+json": {
              "type": "string"
            }
          },
          "metadata": {},
          "execution_count": 1
        }
      ]
    },
    {
      "cell_type": "code",
      "source": [
        "## concatenate\n",
        "name= \"angie\"\n",
        "age=23\n",
        "zodiac=\"saggitarus\"\n",
        "print(\"hello , my name is\"   \" \"  +      name + \"I AM\"   \" \" +    str(age))"
      ],
      "metadata": {
        "colab": {
          "base_uri": "https://localhost:8080/"
        },
        "id": "yQHtAv9OMFlb",
        "outputId": "9163beb1-1be5-441b-e8d6-bebb64f33bcb"
      },
      "execution_count": 13,
      "outputs": [
        {
          "output_type": "stream",
          "name": "stdout",
          "text": [
            "hello , my name is angieI AM 23\n"
          ]
        }
      ]
    },
    {
      "cell_type": "code",
      "source": [
        "## string methods\n",
        "## to capitalize\n",
        "name=\"angelah\"\n",
        "name.capitalize()"
      ],
      "metadata": {
        "colab": {
          "base_uri": "https://localhost:8080/",
          "height": 35
        },
        "id": "op5ispGaNbMv",
        "outputId": "311e7f9b-d055-485c-83d7-8d7067fd8962"
      },
      "execution_count": 14,
      "outputs": [
        {
          "output_type": "execute_result",
          "data": {
            "text/plain": [
              "'Angelah'"
            ],
            "application/vnd.google.colaboratory.intrinsic+json": {
              "type": "string"
            }
          },
          "metadata": {},
          "execution_count": 14
        }
      ]
    },
    {
      "cell_type": "code",
      "source": [
        "name.upper()"
      ],
      "metadata": {
        "colab": {
          "base_uri": "https://localhost:8080/",
          "height": 35
        },
        "id": "tuFKJdcaOon3",
        "outputId": "cee3a072-f7c2-4e93-dcad-673054488d61"
      },
      "execution_count": 15,
      "outputs": [
        {
          "output_type": "execute_result",
          "data": {
            "text/plain": [
              "'ANGELAH'"
            ],
            "application/vnd.google.colaboratory.intrinsic+json": {
              "type": "string"
            }
          },
          "metadata": {},
          "execution_count": 15
        }
      ]
    },
    {
      "cell_type": "code",
      "source": [
        "name.swapcase()"
      ],
      "metadata": {
        "colab": {
          "base_uri": "https://localhost:8080/",
          "height": 35
        },
        "id": "ZXZriAjhOrzm",
        "outputId": "fbc6bf04-2969-45af-8a17-edfaa2a4e65e"
      },
      "execution_count": 16,
      "outputs": [
        {
          "output_type": "execute_result",
          "data": {
            "text/plain": [
              "'ANGELAH'"
            ],
            "application/vnd.google.colaboratory.intrinsic+json": {
              "type": "string"
            }
          },
          "metadata": {},
          "execution_count": 16
        }
      ]
    },
    {
      "cell_type": "code",
      "source": [
        "name.lower()"
      ],
      "metadata": {
        "colab": {
          "base_uri": "https://localhost:8080/",
          "height": 35
        },
        "id": "oD21q1-XOybo",
        "outputId": "3cb123b4-545a-4e46-f567-e39f1f02dd32"
      },
      "execution_count": 17,
      "outputs": [
        {
          "output_type": "execute_result",
          "data": {
            "text/plain": [
              "'angelah'"
            ],
            "application/vnd.google.colaboratory.intrinsic+json": {
              "type": "string"
            }
          },
          "metadata": {},
          "execution_count": 17
        }
      ]
    }
  ]
}